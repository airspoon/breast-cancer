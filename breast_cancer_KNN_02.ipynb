{
 "cells": [
  {
   "cell_type": "markdown",
   "id": "5ed12196",
   "metadata": {},
   "source": [
    "<h1><font color='#CD6155'>K-Nearest Neighbor Classification</font><font color='#154360'>: Breast Cancer</font></h1>"
   ]
  },
  {
   "cell_type": "markdown",
   "id": "129cb660",
   "metadata": {},
   "source": [
    "In this notebook, I used scikit-learn's <abbr title=\"K-Nearest Neighbor\">KNN</abbr> classifier on the breast cancer dataset to predict whether a patient has breast cancer. I'll then score the accuracy."
   ]
  },
  {
   "cell_type": "markdown",
   "id": "b25370e4",
   "metadata": {},
   "source": [
    "Additionally, I'll find the optimal k value, retrain the classifier and score it again."
   ]
  },
  {
   "cell_type": "markdown",
   "id": "15796cae",
   "metadata": {},
   "source": [
    "_______________"
   ]
  },
  {
   "cell_type": "code",
   "execution_count": 1,
   "id": "950ca3ce",
   "metadata": {},
   "outputs": [],
   "source": [
    "# Import the necessary libraries:\n",
    "import numpy as np\n",
    "import matplotlib.pyplot as plt\n",
    "from sklearn.neighbors import KNeighborsClassifier\n",
    "from sklearn.model_selection import train_test_split"
   ]
  },
  {
   "cell_type": "code",
   "execution_count": 2,
   "id": "19cd9717",
   "metadata": {},
   "outputs": [],
   "source": [
    "# Import the breast cancer dataset from sklearn:\n",
    "from sklearn.datasets import load_breast_cancer"
   ]
  },
  {
   "cell_type": "code",
   "execution_count": 3,
   "id": "6981a1db",
   "metadata": {},
   "outputs": [],
   "source": [
    "# Set the pyplot stylesheet to FiveThirtyEight:\n",
    "plt.style.use('fivethirtyeight')"
   ]
  },
  {
   "cell_type": "code",
   "execution_count": 4,
   "id": "24958539",
   "metadata": {},
   "outputs": [],
   "source": [
    "# Load the dataset:\n",
    "bc = load_breast_cancer()"
   ]
  },
  {
   "cell_type": "markdown",
   "id": "3128b231",
   "metadata": {},
   "source": [
    "-----------------------------"
   ]
  },
  {
   "cell_type": "markdown",
   "id": "251266b8",
   "metadata": {},
   "source": [
    "<h3><font color='#154360'>Data</font></h3>"
   ]
  },
  {
   "cell_type": "markdown",
   "id": "8d51b40c",
   "metadata": {},
   "source": [
    "We'll take a look at the data by printing the first datapoint and then the names of each feature in the datapoint."
   ]
  },
  {
   "cell_type": "code",
   "execution_count": 5,
   "id": "7916c379",
   "metadata": {},
   "outputs": [
    {
     "name": "stdout",
     "output_type": "stream",
     "text": [
      "[1.799e+01 1.038e+01 1.228e+02 1.001e+03 1.184e-01 2.776e-01 3.001e-01\n",
      " 1.471e-01 2.419e-01 7.871e-02 1.095e+00 9.053e-01 8.589e+00 1.534e+02\n",
      " 6.399e-03 4.904e-02 5.373e-02 1.587e-02 3.003e-02 6.193e-03 2.538e+01\n",
      " 1.733e+01 1.846e+02 2.019e+03 1.622e-01 6.656e-01 7.119e-01 2.654e-01\n",
      " 4.601e-01 1.189e-01]\n",
      "['mean radius' 'mean texture' 'mean perimeter' 'mean area'\n",
      " 'mean smoothness' 'mean compactness' 'mean concavity'\n",
      " 'mean concave points' 'mean symmetry' 'mean fractal dimension'\n",
      " 'radius error' 'texture error' 'perimeter error' 'area error'\n",
      " 'smoothness error' 'compactness error' 'concavity error'\n",
      " 'concave points error' 'symmetry error' 'fractal dimension error'\n",
      " 'worst radius' 'worst texture' 'worst perimeter' 'worst area'\n",
      " 'worst smoothness' 'worst compactness' 'worst concavity'\n",
      " 'worst concave points' 'worst symmetry' 'worst fractal dimension']\n"
     ]
    }
   ],
   "source": [
    "# print the first datapoint:\n",
    "print(bc.data[0])\n",
    "# print the feature names:\n",
    "print(bc.feature_names)"
   ]
  },
  {
   "cell_type": "markdown",
   "id": "6dc30b29",
   "metadata": {},
   "source": [
    "Following, is an explanation of the feature names, taken from the dataset documentation.\n",
    "\n",
    "Ten real-valued features were computed for each cell nucleus:\n",
    "<ol>\n",
    "    <li><font color='blue'>radius</font> - (mean of distances from center to points on the perimeter)</li>\n",
    "    <li><font color='blue'>texture</font> - (standard deviation of gray-scale values)</li>\n",
    "    <li><font color='blue'>parimeter</font></li>\n",
    "    <li><font color='blue'>area</font></li>\n",
    "    <li><font color='blue'>smoothness</font> - (local variation in radius lengths)</li>\n",
    "    <li><font color='blue'>compactness</font> - (perimeter**2 / area - 1.0)</li>\n",
    "    <li><font color='blue'>concavity</font> - (severity of concave portions of the contour)</li>\n",
    "    <li><font color='blue'>concave points</font> - (number of concave portions of the contour)</li>\n",
    "    <li><font color='blue'>symmetry</font></li>\n",
    "    <li><font color='blue'>fractal dimension</font> - (\"coastline approximation\" - 1)</li>\n",
    "</ol>\n",
    "\n",
    "The mean, standard error, and \"worst\" or largest (mean of the three\n",
    "largest values) of these features were computed for each image,\n",
    "resulting in 30 features."
   ]
  },
  {
   "cell_type": "markdown",
   "id": "ec8044ae",
   "metadata": {},
   "source": [
    "The following papers contain detailed descriptions of how these features are computed:\n",
    "<ul>\n",
    "    <li>\n",
    "    W.H. Wolberg, W.N. Street, and O.L. Mangasarian.<br>\n",
    "\t<b>Machine learning techniques to diagnose breast cancer from<br>\n",
    "        fine-needle aspirates.</b><br>  \n",
    "\tCancer Letters 77 (1994) 163-171.\n",
    "    </li>\n",
    "    <li>\n",
    "    W.H. Wolberg, W.N. Street, and O.L. Mangasarian. <br>\n",
    "\t<b>Image analysis and machine learning applied to breast cancer<br>\n",
    "        diagnosis and prognosis.</b>  <br>\n",
    "\tAnalytical and Quantitative Cytology and Histology, Vol. 17<br>\n",
    "\tNo. 2, pages 77-87, April 1995.\n",
    "    </li>\n",
    "    <li>\n",
    "    W.H. Wolberg, W.N. Street, D.M. Heisey, and O.L. Mangasarian. <br>\n",
    "\t<b>Computerized breast cancer diagnosis and prognosis from fine<br>\n",
    "        needle aspirates.</b>  <br>\n",
    "\tArchives of Surgery 1995;130:511-516.\n",
    "    </li>\n",
    "    <li>\n",
    "    W.H. Wolberg, W.N. Street, D.M. Heisey, and O.L. Mangasarian. <br>\n",
    "\t<b>Computer-derived nuclear features distinguish malignant from<br>\n",
    "        benign breast cytology.</b><br>  \n",
    "\tHuman Pathology, 26:792--796, 1995.\n",
    "    </li>\n",
    "</ul>\n",
    "    "
   ]
  },
  {
   "cell_type": "markdown",
   "id": "56bd0bc7",
   "metadata": {},
   "source": [
    "---------------------------------------"
   ]
  },
  {
   "cell_type": "markdown",
   "id": "d735213c",
   "metadata": {},
   "source": [
    "<h3><font color='#154360'>Labels</font></h3>"
   ]
  },
  {
   "cell_type": "markdown",
   "id": "f0470fe7",
   "metadata": {},
   "source": [
    "Now we'll look at what we are trying to classify. Following are the labels of every datapoint. We can see that the first datapoint is <font color='blue'>0</font> and with <code>bc.target_names</code> we can see that <font color='blue'>0</font> corresponds with <mark>malignant</mark>."
   ]
  },
  {
   "cell_type": "code",
   "execution_count": 6,
   "id": "25faa16d",
   "metadata": {
    "scrolled": false
   },
   "outputs": [
    {
     "name": "stdout",
     "output_type": "stream",
     "text": [
      "[0 0 0 0 0 0 0 0 0 0 0 0 0 0 0 0 0 0 0 1 1 1 0 0 0 0 0 0 0 0 0 0 0 0 0 0 0\n",
      " 1 0 0 0 0 0 0 0 0 1 0 1 1 1 1 1 0 0 1 0 0 1 1 1 1 0 1 0 0 1 1 1 1 0 1 0 0\n",
      " 1 0 1 0 0 1 1 1 0 0 1 0 0 0 1 1 1 0 1 1 0 0 1 1 1 0 0 1 1 1 1 0 1 1 0 1 1\n",
      " 1 1 1 1 1 1 0 0 0 1 0 0 1 1 1 0 0 1 0 1 0 0 1 0 0 1 1 0 1 1 0 1 1 1 1 0 1\n",
      " 1 1 1 1 1 1 1 1 0 1 1 1 1 0 0 1 0 1 1 0 0 1 1 0 0 1 1 1 1 0 1 1 0 0 0 1 0\n",
      " 1 0 1 1 1 0 1 1 0 0 1 0 0 0 0 1 0 0 0 1 0 1 0 1 1 0 1 0 0 0 0 1 1 0 0 1 1\n",
      " 1 0 1 1 1 1 1 0 0 1 1 0 1 1 0 0 1 0 1 1 1 1 0 1 1 1 1 1 0 1 0 0 0 0 0 0 0\n",
      " 0 0 0 0 0 0 0 1 1 1 1 1 1 0 1 0 1 1 0 1 1 0 1 0 0 1 1 1 1 1 1 1 1 1 1 1 1\n",
      " 1 0 1 1 0 1 0 1 1 1 1 1 1 1 1 1 1 1 1 1 1 0 1 1 1 0 1 0 1 1 1 1 0 0 0 1 1\n",
      " 1 1 0 1 0 1 0 1 1 1 0 1 1 1 1 1 1 1 0 0 0 1 1 1 1 1 1 1 1 1 1 1 0 0 1 0 0\n",
      " 0 1 0 0 1 1 1 1 1 0 1 1 1 1 1 0 1 1 1 0 1 1 0 0 1 1 1 1 1 1 0 1 1 1 1 1 1\n",
      " 1 0 1 1 1 1 1 0 1 1 0 1 1 1 1 1 1 1 1 1 1 1 1 0 1 0 0 1 0 1 1 1 1 1 0 1 1\n",
      " 0 1 0 1 1 0 1 0 1 1 1 1 1 1 1 1 0 0 1 1 1 1 1 1 0 1 1 1 1 1 1 1 1 1 1 0 1\n",
      " 1 1 1 1 1 1 0 1 0 1 1 0 1 1 1 1 1 0 0 1 0 1 0 1 1 1 1 1 0 1 1 0 1 0 1 0 0\n",
      " 1 1 1 0 1 1 1 1 1 1 1 1 1 1 1 0 1 0 0 1 1 1 1 1 1 1 1 1 1 1 1 1 1 1 1 1 1\n",
      " 1 1 1 1 1 1 1 0 0 0 0 0 0 1]\n",
      "['malignant' 'benign']\n"
     ]
    }
   ],
   "source": [
    "# Print the labels and the names:\n",
    "print(bc.target)\n",
    "print(bc.target_names)"
   ]
  },
  {
   "cell_type": "code",
   "execution_count": 7,
   "id": "f1cb9837",
   "metadata": {},
   "outputs": [],
   "source": [
    "# Count how many are malignant and how many are benign\n",
    "malignant = []\n",
    "benign = []\n",
    "# Count number of malignant and benign:\n",
    "for item in bc.target:\n",
    "    if item == 0:\n",
    "        malignant.append(item)\n",
    "    elif item == 1:\n",
    "        benign.append(item)"
   ]
  },
  {
   "cell_type": "code",
   "execution_count": 8,
   "id": "da78424c",
   "metadata": {},
   "outputs": [
    {
     "name": "stdout",
     "output_type": "stream",
     "text": [
      "Number of malignant: 212\n",
      "Number of benign: 357\n"
     ]
    }
   ],
   "source": [
    "# Print the results:\n",
    "print(f'Number of malignant: {len(malignant)}')\n",
    "print(f'Number of benign: {len(benign)}')"
   ]
  },
  {
   "cell_type": "markdown",
   "id": "16f59a05",
   "metadata": {},
   "source": [
    "---------------------"
   ]
  },
  {
   "cell_type": "markdown",
   "id": "aceb80aa",
   "metadata": {},
   "source": [
    "<h2><font color='#CD6155'>Machine Learning</font><font color='#154360'>: K-Nearest Neighbors</font></h2>"
   ]
  },
  {
   "cell_type": "markdown",
   "id": "03d8bbbf",
   "metadata": {},
   "source": [
    "We now need to split our dataset into training and validation sets:"
   ]
  },
  {
   "cell_type": "code",
   "execution_count": 9,
   "id": "14be9d8c",
   "metadata": {},
   "outputs": [],
   "source": [
    "# Split the data into training and validation sets:\n",
    "# Use 'test_size=0.2' for 20% of the data\n",
    "# random_state=100' to ensure data splits in the same way everytime we run the code:\n",
    "training_data, validation_data, training_labels, validation_labels = train_test_split(bc.data, bc.target, test_size=0.2, random_state = 100)"
   ]
  },
  {
   "cell_type": "markdown",
   "id": "286dfa08",
   "metadata": {},
   "source": [
    "Let's make sure that the data and labels are the same size:"
   ]
  },
  {
   "cell_type": "code",
   "execution_count": 10,
   "id": "acde7b38",
   "metadata": {},
   "outputs": [
    {
     "name": "stdout",
     "output_type": "stream",
     "text": [
      "455\n",
      "455\n"
     ]
    }
   ],
   "source": [
    "# Make sure our data and labels are are the same size:\n",
    "print(len(training_data))\n",
    "print(len(training_labels))"
   ]
  },
  {
   "cell_type": "markdown",
   "id": "fbe4c6df",
   "metadata": {},
   "source": [
    "Now let's create the classifier and set k to 3:"
   ]
  },
  {
   "cell_type": "code",
   "execution_count": 11,
   "id": "703ec58e",
   "metadata": {},
   "outputs": [],
   "source": [
    "# Create the classifier and set k to 3:\n",
    "classifier = KNeighborsClassifier(n_neighbors = 3)"
   ]
  },
  {
   "cell_type": "markdown",
   "id": "bf07fe1a",
   "metadata": {},
   "source": [
    "Now let's train the classifier on the training data:"
   ]
  },
  {
   "cell_type": "code",
   "execution_count": 12,
   "id": "304338f8",
   "metadata": {},
   "outputs": [
    {
     "data": {
      "text/plain": [
       "KNeighborsClassifier(n_neighbors=3)"
      ]
     },
     "execution_count": 12,
     "metadata": {},
     "output_type": "execute_result"
    }
   ],
   "source": [
    "# Fit the classifier to the training data:\n",
    "classifier.fit(training_data, training_labels)"
   ]
  },
  {
   "cell_type": "markdown",
   "id": "91727e47",
   "metadata": {},
   "source": [
    "<h3><font color='#CD6155'>Score</font></h3>\n",
    "Score with k set to 3:"
   ]
  },
  {
   "cell_type": "markdown",
   "id": "0b133b12",
   "metadata": {},
   "source": [
    "Now that we've trained our classifier, let's score the accuracy:"
   ]
  },
  {
   "cell_type": "code",
   "execution_count": 14,
   "id": "90431972",
   "metadata": {},
   "outputs": [
    {
     "name": "stdout",
     "output_type": "stream",
     "text": [
      "0.9473684210526315\n"
     ]
    }
   ],
   "source": [
    "# Print the accuracy score of our classifier:\n",
    "print(classifier.score(validation_data, validation_labels))"
   ]
  },
  {
   "cell_type": "markdown",
   "id": "b48a8806",
   "metadata": {},
   "source": [
    "----------------------"
   ]
  },
  {
   "cell_type": "markdown",
   "id": "7cce297d",
   "metadata": {},
   "source": [
    "<h2><font color='#154360'>Finding the Optimal</font> <font color='#CD6155'>K Value</font></h2>"
   ]
  },
  {
   "cell_type": "markdown",
   "id": "a5be1a94",
   "metadata": {},
   "source": [
    "The classifier is pretty accurate with k set to 3, but let's see if there are better k values. We'll graph the results of all k values between 1 and 100:"
   ]
  },
  {
   "cell_type": "code",
   "execution_count": 15,
   "id": "add4bf2d",
   "metadata": {},
   "outputs": [],
   "source": [
    "# Empty list to accept the accuracies with each k value in the range:\n",
    "accuracies = []\n",
    "# Set our range:\n",
    "k_list = range(1, 101)\n",
    "# Find the accuracies for all k values between 1 and 100:\n",
    "for k in k_list:\n",
    "    classifier = KNeighborsClassifier(n_neighbors = k)\n",
    "    # Train the classifier:\n",
    "    classifier.fit(training_data, training_labels)\n",
    "    # append accuracy score to the accuracies list created above:\n",
    "    accuracies.append(classifier.score(validation_data, validation_labels))"
   ]
  },
  {
   "cell_type": "markdown",
   "id": "ace951f6",
   "metadata": {},
   "source": [
    "Below, we'll graph the accuracies of k values between 1 and 100:"
   ]
  },
  {
   "cell_type": "code",
   "execution_count": 17,
   "id": "e8ca90b2",
   "metadata": {
    "scrolled": true
   },
   "outputs": [
    {
     "data": {
      "image/png": "[encoded data removed]",
      "text/plain": [
       "<Figure size 864x432 with 1 Axes>"
      ]
     },
     "metadata": {},
     "output_type": "display_data"
    }
   ],
   "source": [
    "# Create the figure and set it's size:\n",
    "plt.figure(figsize=(12, 6))\n",
    "# Create the plot:\n",
    "plt.plot(k_list, accuracies)\n",
    "# Set label on x-axis:\n",
    "plt.xlabel(\"k\")\n",
    "# set label on y-axis:\n",
    "plt.ylabel('Validation Accuracy')\n",
    "# Set title:\n",
    "plt.title(\"Breast Cancer Classification Accuracy\")\n",
    "plt.show()"
   ]
  },
  {
   "cell_type": "markdown",
   "id": "3f1a77b8",
   "metadata": {},
   "source": [
    "From the graph, we can see that the best k-value is 23:"
   ]
  },
  {
   "cell_type": "code",
   "execution_count": 24,
   "id": "06805869",
   "metadata": {
    "scrolled": false
   },
   "outputs": [
    {
     "data": {
      "image/png": "[encoded data removed]",
      "text/plain": [
       "<Figure size 864x432 with 1 Axes>"
      ]
     },
     "metadata": {},
     "output_type": "display_data"
    }
   ],
   "source": [
    "# Create the figure and set it's size:\n",
    "plt.figure(figsize=(12, 6))\n",
    "# Create the plot of k value accuracies:\n",
    "plt.plot(k_list, accuracies)\n",
    "# Draw a verticle line where the k is 3:\n",
    "plt.axvline(3, c='y', linewidth=1.5, label='k set to 3')\n",
    "# Draw verticle line where k value is optimal:\n",
    "plt.axvline(23, c='r', linewidth=1.5, label='K set to 23', alpha=0.8)\n",
    "# Draw verticle line where other k value is most accurate:\n",
    "plt.axvline(56, c='coral', linewidth=1.5, label='K set to 56', alpha=0.8)\n",
    "# Draw horizontal line where plot line peaks:\n",
    "plt.axhline(0.965, c='aqua', linewidth=1.5, label='Accuracy 0.965', alpha=0.5)\n",
    "# Create label on x-axis:\n",
    "plt.xlabel(\"k\")\n",
    "# Create legend:\n",
    "plt.legend(loc='upper right')\n",
    "# Create label on y-axis:\n",
    "plt.ylabel('Validation Accuracy')\n",
    "# Create title:\n",
    "plt.title(\"Classification Accuracy\")\n",
    "plt.show()"
   ]
  },
  {
   "cell_type": "markdown",
   "id": "59c4cd0b",
   "metadata": {},
   "source": [
    "---------------------------------"
   ]
  },
  {
   "cell_type": "markdown",
   "id": "62d9eb8d",
   "metadata": {},
   "source": [
    "<h2><font color='#CD6155'>Retrain</font></h2>"
   ]
  },
  {
   "cell_type": "markdown",
   "id": "372e1e6a",
   "metadata": {},
   "source": [
    "Now we'll create the classifier with a k value of 23 and then train it again:"
   ]
  },
  {
   "cell_type": "code",
   "execution_count": 20,
   "id": "2beee055",
   "metadata": {},
   "outputs": [
    {
     "data": {
      "text/plain": [
       "KNeighborsClassifier(n_neighbors=23)"
      ]
     },
     "execution_count": 20,
     "metadata": {},
     "output_type": "execute_result"
    }
   ],
   "source": [
    "# Create the classifier and set k to 3:\n",
    "classifier = KNeighborsClassifier(n_neighbors = 23)\n",
    "# Train the classifier:\n",
    "classifier.fit(training_data, training_labels)"
   ]
  },
  {
   "cell_type": "markdown",
   "id": "0f69e9b7",
   "metadata": {},
   "source": [
    "<h3><font color='#154360'>New</font> <font color='#CD6155'>Score</font></h3>"
   ]
  },
  {
   "cell_type": "markdown",
   "id": "84eacd72",
   "metadata": {},
   "source": [
    "Next, let's score the classifier's accuracy:"
   ]
  },
  {
   "cell_type": "code",
   "execution_count": 21,
   "id": "e0e3fc1f",
   "metadata": {},
   "outputs": [
    {
     "name": "stdout",
     "output_type": "stream",
     "text": [
      "0.9649122807017544\n"
     ]
    }
   ],
   "source": [
    "# Print the accuracy score of our classifier:\n",
    "print(classifier.score(validation_data, validation_labels))"
   ]
  },
  {
   "cell_type": "markdown",
   "id": "045d10b3",
   "metadata": {},
   "source": [
    "We are now getting ~0.965 accuracy with our classifier. "
   ]
  },
  {
   "cell_type": "markdown",
   "id": "3ca9aa73",
   "metadata": {},
   "source": [
    "------------------"
   ]
  }
 ],
 "metadata": {
  "kernelspec": {
   "display_name": "Python 3 (ipykernel)",
   "language": "python",
   "name": "python3"
  },
  "language_info": {
   "codemirror_mode": {
    "name": "ipython",
    "version": 3
   },
   "file_extension": ".py",
   "mimetype": "text/x-python",
   "name": "python",
   "nbconvert_exporter": "python",
   "pygments_lexer": "ipython3",
   "version": "3.9.7"
  }
 },
 "nbformat": 4,
 "nbformat_minor": 5
}
